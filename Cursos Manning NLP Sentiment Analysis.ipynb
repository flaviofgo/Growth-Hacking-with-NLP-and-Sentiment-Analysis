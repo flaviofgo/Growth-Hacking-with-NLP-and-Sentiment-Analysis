{
 "cells": [
  {
   "cell_type": "markdown",
   "metadata": {},
   "source": [
    "### Curso de NLP e Sentiment Analysis - Live Projects - Manning"
   ]
  },
  {
   "cell_type": "markdown",
   "metadata": {},
   "source": [
    "https://numpy.org/doc/stable/user/basics.creation.html"
   ]
  },
  {
   "cell_type": "markdown",
   "metadata": {},
   "source": [
    "#### O LiveProject\n",
    "\n",
    "Neste liveProject, você pode obter uma impressão geral do trabalho de um especialista em Processamento de linguagem natural (NLP) que trabalha na equipe da Growth Hacking (GHT) uma startup recém-lançada que está introduzindo um novo videogame no mercado. Um dos principais alvos da equipe GHT é aumentar maciçamente o número de clientes em pouco tempo. Para isso, introduz estratégias para aumentar a chance de adquirir o maior número possível de clientes com o menor custo possível. Como parte da estratégia de crescimento da GHT, sua chefe deseja mapear o mercado de videogames. Ela pretende descobrir como os clientes avaliam os produtos de seus concorrentes, a saber, o que eles gostam e o que não gostam em um videogame. Saber o que torna um videogame atraente para um jogador ajuda a equipe de marketing a articular a mensagem do seu produto com mais eficiência.\n",
    "\n",
    "Para poder descobrir o que faz um game valer a pena comprar de acordo com os jogadores, você precisa obter informações mais detalhadas sobre os recursos linguísticos de suas declarações. Como especialista em NLP, sua tarefa será analisar as opiniões dos clientes sobre videogames. Para executar esta tarefa, você empregará diferentes métodos de NLP. Esses métodos permitirão que você adquira uma compreensão mais profunda dos comentários e opiniões dos clientes.\n",
    "\n",
    "Sua tarefa como especialista em NLP na equipe da GHT é a seguinte:\n",
    "\n",
    "1.Faça o download do conjunto de dados das análises da Amazon.\n",
    "\n",
    "2.Crie seu próprio conjunto de dados a partir das análises da Amazon.\n",
    "\n",
    "3.Decida se as pessoas gostam ou não do videogame que compraram. Rotule cada revisão com uma pontuação de sentimento entre -1 e 1.\n",
    "\n",
    "4.Verifique o desempenho do seu analisador de sentimentos comparando as pontuações dos sentimentos com as classificações da revisão.\n",
    "\n",
    "5.Avalie o desempenho do seu analisador de sentimentos e descubra se você conseguiu rotular corretamente as revisões.\n",
    "\n",
    "6.Experimente outros métodos de análise de sentimentos. Explore como as pessoas avaliam o videogame adquirido classificando as avaliações como positivas, negativas e neutras.\n",
    "\n",
    "7.Resuma seus resultados para o chefe da equipe da GHT. Com base nas suas descobertas, liste as coisas que você gosta e as que não gosta nos videogames."
   ]
  },
  {
   "cell_type": "markdown",
   "metadata": {},
   "source": [
    "#### Técnicas empregadas\n",
    "\n",
    "Para entender melhor a opinião das pessoas sobre os videogames, você empregará várias técnicas de NLP. Aqui está uma pequena lista sobre o que você fará e quais técnicas usará.\n",
    "\n",
    "1.Amostragem de conjuntos de dados desequilibrados usando o pacote *imbalanced-learn*\n",
    "\n",
    "2.Indagar sobre o valor de sentimento das revisões com as ferramentas de análise de sentimento baseadas em dicionário, que fazem parte do *NLTK*, um kit de ferramentas de processamento de linguagem natural, usado no Python.\n",
    "\n",
    "3.Descobrir se o seu algoritmo fez um bom trabalho. Avaliação de dados com o *scikit-learn* em Python.\n",
    "\n",
    "4.Analisar as revisões com uma técnica de aprendizado profundo de última geração, nomeadamente com o *modelo DistilBERT*. Para criar esse modelo, você precisará executar o *Pytorch*, e os pacotes *transformers* e *simpletransformers*.\n",
    "\n",
    "5.Avaliar seu modelo e criando estatísticas descritivas em Python com a biblioteca *scikit-learn* antes de relatar seus resultados ao seu chefe.\n",
    "\n",
    "6.Visualizar suas descobertas sobre palavras preferenciais e não preferenciais relacionadas a jogos de vídeo usando o *Altair*.\n",
    "\n",
    "Você receberá todos os recursos necessários para aplicar essas técnicas. No entanto, quanto mais entusiasmado e comprometido você for, mais pesquisas você fará por conta própria, o que também é uma habilidade fundamental de um especialista em NLP.\n",
    "\n",
    "Durante este projeto, você adquirirá as habilidades básicas de um especialista em NLP. No final deste *liveProject*, você poderá criar um *corpus* com revisões, realizar uma análise de sentimentos com vários métodos, avaliar o desempenho do seu classificador, comparar o desempenho de mais classificadores, obter uma imagem em um modelo de linguagem baseado em *transformers* de última geração, para treinar seu próprio modelo baseado em rede neural e escrever um relatório sobre o resultado da análise de textos.\n",
    "\n",
    "Você não precisa se preocupar se ainda não conhece essas habilidades; você os aprenderá durante o curso. O projeto incentiva você a aprender NLP fazendo isso. Você dominará essas habilidades por experiência, não por explicação. Certamente, também forneceremos materiais úteis de aprendizado (ou seja, *Manning books* e links externos) sobre o tópico, que são altamente recomendados para leitura. Sinta-se livre para fazer pesquisas por conta própria relacionadas aos tópicos."
   ]
  },
  {
   "cell_type": "markdown",
   "metadata": {},
   "source": [
    "#### Esboço do Projeto\n",
    "\n",
    "O projeto é composto de cinco etapas, que são construídas umas sobre as outras, portanto, é essencial executá-las na ordem em que são introduzidas.\n",
    "\n",
    "1.Criando seu conjunto de dados.\n",
    "\n",
    "2.Criando um analisador de sentimentos baseado em dicionário.\n",
    "\n",
    "3.Avaliando seu analisador de sentimentos baseado em dicionário.\n",
    "\n",
    "4.Criando analisadores de sentimentos baseados em redes neurais.\n",
    "\n",
    "5.Relatando seus resultados.\n",
    "\n",
    "As etapas e as técnicas deste projeto modelam um cenário da vida real. Se você trabalha como especialista em NLP, é provável que realize trabalhos como esses."
   ]
  },
  {
   "cell_type": "markdown",
   "metadata": {},
   "source": [
    "#### Pré-requisitos\n",
    "\n",
    "Este liveProject é para programadores intermediários de Python que estão familiarizados com a ciência de dados. Você precisará conhecer o básico de estatística e aprendizado de máquina. Encontros anteriores com NLP, redes neurais e PyTorch serão úteis, mas não essenciais. Você usará o ambiente do Google Collaboratory (Colab) para este projeto para acessar uma GPU gratuita baseada em nuvem. Para tirar o máximo proveito do projeto, você deve estar familiarizado com:\n",
    "\n",
    "##### FERRAMENTAS:\n",
    "\n",
    "Biblioteca padrão do Python\n",
    "\n",
    "Noções básicas de pandas\n",
    "\n",
    "Noções básicas do notebook Jupyter\n",
    "\n",
    "Noções básicas de Colab\n",
    "\n",
    "Noções básicas de scikit-learn\n",
    "\n",
    "##### TÉCNICAS\n",
    "Noções básicas de aprendizado de máquina\n",
    "\n",
    "Noções básicas de redes neurais"
   ]
  },
  {
   "cell_type": "markdown",
   "metadata": {},
   "source": [
    "##### Bibliotecas e instalação do Python\n",
    "\n",
    "Este projeto usa Python 3.7 e as seguintes bibliotecas:\n",
    "\n",
    "Jupyter: para rodar notebooks Jupyter\n",
    "\n",
    "NLTK: para fazer análise básica de sentimentos\n",
    "\n",
    "pandas: para armazenar seus dados como um quadro de dados\n",
    "\n",
    "scikit-learn: para avaliar seus resultados\n",
    "\n",
    "Imbalanced-learn: para amostragem do conjunto de dados de revisão da Amazon\n",
    "\n",
    "PyTorch, transformers e simpletransformers: para criar seu próprio classificador de sentimentos e usar o distilbert modell\n",
    "\n",
    "Altair: para visualização\n",
    "\n",
    "nbconvert: para transformar os notebooks Jupyter em apresentações\n",
    "\n",
    "Para instalar tudo o que você precisa para trabalhar no projeto, clone este repositório do github (https://github.com/crow-intelligence/growth-hacking-sentiment) ou faça o download como um arquivo zip e descompacte-o. Use seu software de gerenciamento de pacotes preferido para instalar os requisitos listados no arquivo requirements.txt, por exemplo, pip install -r requirements.txt -u."
   ]
  },
  {
   "cell_type": "markdown",
   "metadata": {},
   "source": [
    "#### Conjunto de dados\n",
    "\n",
    "Você pode encontrar o conjunto de dados aqui (https://nijianmo.github.io/amazon/index.html). Faça o download do arquivo json compactado da categoria de jogos de vídeo 5 core, que pode ser encontrado no título Pequenos subconjuntos para experimentação. Quando o download estiver concluído, extraia o arquivo."
   ]
  },
  {
   "cell_type": "markdown",
   "metadata": {},
   "source": [
    "###### Os dados em detalhes no dataset\n",
    "\n",
    "reviewerID - ID of the reviewer, e.g. A2SUAM1J3GNN3B\n",
    "\n",
    "asin - ID of the product, e.g. 0000013714\n",
    "\n",
    "reviewerName - name of the reviewer\n",
    "\n",
    "vote - helpful votes of the review\n",
    "\n",
    "style - a disctionary of the product metadata, e.g., \"Format\" is \"Hardcover\"\n",
    "\n",
    "reviewText - text of the review\n",
    "\n",
    "overall - rating of the product\n",
    "\n",
    "summary - summary of the review\n",
    "\n",
    "unixReviewTime - time of the review (unix time)\n",
    "\n",
    "reviewTime - time of the review (raw)\n",
    "\n",
    "image - images that users post after they have received the product\n",
    "\n"
   ]
  },
  {
   "cell_type": "markdown",
   "metadata": {},
   "source": [
    "#### Recursos Recomendados\n",
    "\n",
    "Transfer Learning for Natural Language Processing by Paul Azunre (https://livebook.manning.com/book/transfer-learning-for-natural-language-processing/welcome/v-2/)\n",
    "\n",
    "Human-in-the-Loop Machine Learning by Robert Munro (https://livebook.manning.com/book/human-in-the-loop-machine-learning/welcome/v-6/)\n",
    "\n",
    "Real-World Machine Learning by Henrik Brink, Joseph Richards, and Mark Fetherolf (https://livebook.manning.com/book/real-world-machine-learning/about-this-book/)\n",
    "\n",
    "\n",
    "Deep Learning with PyTorch by Eli Stevens, Luca Antiga, and Thomas Veihmann (https://livebook.manning.com/book/deep-learning-with-pytorch/welcome/v-13/)\n",
    "\n",
    "Natural Language Processing in Action by Hobson Lane, Cole Howard & Hannes Hapke (https://livebook.manning.com/book/natural-language-processing-in-action/about-this-book/)\n",
    "\n",
    "Essential Natural Language Processing by Ekaterina Kochmar (https://livebook.manning.com/book/essential-natural-language-processing/welcome/v-4/)\n",
    "\n",
    "Data Science Bookcamp by Leonard Apeltsin (https://livebook.manning.com/book/data-science-bookcamp/welcome/v-4/)\n",
    "\n",
    "The Quick Python Book, 3rd Edition by Naomi Ceder (https://livebook.manning.com/book/the-quick-python-book-third-edition/about-this-book/)\n",
    "\n",
    "nltk (https://www.nltk.org/api/nltk.html)\n",
    "\n",
    "pandas (https://pandas.pydata.org/pandas-docs/stable/)\n",
    " \n",
    "scikit-learn (https://scikit-learn.org/stable/index.html)\n",
    "\n",
    "PyTorch (https://pytorch.org/docs/stable/index.html)\n",
    "\n",
    "Transformers (https://huggingface.co/transformers/)\n",
    "\n",
    "simpletransformers (https://github.com/ThilinaRajapakse/simpletransformers)\n",
    "\n",
    "Natural Language Processing with Python by Steven Bird, Ewan Klein, and Edward Loper (http://www.nltk.org/book/)\n",
    "\n",
    "Stack Overflow (https://stackoverflow.com/)\n",
    "\n",
    "Jupyter documentation (https://jupyter.readthedocs.io/en/latest/)\n",
    "\n",
    "Python official docs (https://docs.python.org/3.7/)"
   ]
  },
  {
   "cell_type": "markdown",
   "metadata": {},
   "source": [
    "#### Creating Your Dataset\n",
    "\n",
    "##### Fluxo de trabalho\n",
    "\n",
    "1.Leia os dados de revisão do videogame. Dê uma olhada no texto dos comentários e nas classificações com as quais você trabalhará neste marco.Observe que seus dados não são puramente *json*, mas sim *nova linha delimitada por json*. Para poder lê-lo, instale e importe o *ndjson*.\n",
    "\n",
    "2.Importe *Altair* e *pandas*.\n",
    "\n",
    "3.Crie uma plotagem das classificações do produto. Estude a distribuição das cinco categorias.\n",
    "\n",
    "4.Faça uma amostra aleatória dos comentários selecionando 1500 comentários com classificação 1, 500-500-500 comentários com classificações 2, 3, 4 e 1500 comentários com classificação 5. Dessa forma, você obtém um *corpus balanceado* menor, no qual trabalhará durante os Marcos 2-4.\n",
    "\n",
    "5.É recomendável usar o *imblearn.under_sampling.RandomUnderSampler* do pacote *imbalanced-learn*, que deve ser instalado primeiro e depois importado. Se você deseja obter resultados idênticos que são fornecidos como uma solução de amostra, use 42 como um estado aleatório (*random state*).\n",
    "\n",
    "6.Faça uma amostra aleatória dos comentários selecionando 100.000 comentários. Dessa forma, você obtém um *corpus* representativo maior, no qual trabalhará nos Marcos 4 e 5. É recomendável usar *numpy.random.randint*. Se você deseja obter resultados idênticos que são fornecidos como uma solução de amostra, use 42 como um estado aleatório.\n",
    "\n",
    "7.Exporte seus *corpora* para dois arquivos CSV separados. Ambas as suas tabelas devem conter uma coluna para as revisões e uma coluna para as classificações. A partir de agora, chamamos o texto de revisão da chave Jason como revisões e a chave geral como classificações. Nomeie seus *corpora* como *small_corpus* e *big_corpus*.\n",
    "\n",
    "Importância para o projeto\n",
    "\n",
    "Trabalhar com um grande conjunto de dados exige muito esforço, portanto, exige muito tempo do seu computador para trabalhar. Seu trabalho pode ser mais eficaz se você trabalhar com um *corpus* reduzido. Como você não pode reduzir seu conjunto de dados arbitrariamente, você deve coletar uma amostra aleatória.\n",
    "\n",
    "Os especialistas em NLP provavelmente não terão a mesma sorte de trabalhar em um *corpus* tão grande quanto a revisão da Amazon. Na realidade, eles tendem a analisar um pequeno *corpus* obtido após a amostragem aleatória.\n",
    "\n",
    "Os especialistas em NLP primeiro fazem um *corpus balanceado*, usado para treinar e testar o modelo que eles desenvolvem para resolver o problema em questão. Por isso, você criou o *small_corpus* neste marco, que será usado nos quatro primeiros. \n",
    "\n",
    "Os especialistas em NLP tendem a implantar seu modelo e usá-lo para prever o sentimento de dados invisíveis. É por isso que você gerou o *big_corpus*, que simula os dados invisíveis e não rotulados. Você classificará as revisões no *corpus maior* usando o modelo treinado no marco 4 e gerará um relatório sobre os dados."
   ]
  },
  {
   "cell_type": "code",
   "execution_count": 1,
   "metadata": {},
   "outputs": [],
   "source": [
    "import ndjson\n",
    "import json\n",
    "import pandas as pd\n",
    "import altair as alt\n",
    "import gzip\n",
    "import numpy as np\n",
    "\n",
    "import matplotlib.pyplot as plt\n",
    "import seaborn as sns\n",
    "sns.set(style = \"darkgrid\")\n",
    "%matplotlib inline\n",
    "\n",
    "from datetime import datetime,timedelta\n",
    "from sklearn.metrics import mean_squared_error\n"
   ]
  },
  {
   "cell_type": "code",
   "execution_count": 2,
   "metadata": {},
   "outputs": [],
   "source": [
    "from collections import Counter\n",
    "\n",
    "from sklearn.datasets import fetch_20newsgroups\n",
    "from sklearn.feature_extraction.text import TfidfVectorizer\n",
    "from sklearn.naive_bayes import MultinomialNB\n",
    "from sklearn.pipeline import make_pipeline\n",
    "\n",
    "from imblearn.under_sampling import RandomUnderSampler\n",
    "from imblearn.pipeline import make_pipeline as make_pipeline_imb\n",
    "from imblearn.metrics import classification_report_imbalanced"
   ]
  },
  {
   "cell_type": "code",
   "execution_count": 3,
   "metadata": {},
   "outputs": [
    {
     "data": {
      "text/html": [
       "<div>\n",
       "<style scoped>\n",
       "    .dataframe tbody tr th:only-of-type {\n",
       "        vertical-align: middle;\n",
       "    }\n",
       "\n",
       "    .dataframe tbody tr th {\n",
       "        vertical-align: top;\n",
       "    }\n",
       "\n",
       "    .dataframe thead th {\n",
       "        text-align: right;\n",
       "    }\n",
       "</style>\n",
       "<table border=\"1\" class=\"dataframe\">\n",
       "  <thead>\n",
       "    <tr style=\"text-align: right;\">\n",
       "      <th></th>\n",
       "      <th>overall</th>\n",
       "      <th>verified</th>\n",
       "      <th>reviewTime</th>\n",
       "      <th>reviewerID</th>\n",
       "      <th>asin</th>\n",
       "      <th>reviewerName</th>\n",
       "      <th>reviewText</th>\n",
       "      <th>summary</th>\n",
       "      <th>unixReviewTime</th>\n",
       "      <th>vote</th>\n",
       "      <th>style</th>\n",
       "      <th>image</th>\n",
       "    </tr>\n",
       "  </thead>\n",
       "  <tbody>\n",
       "    <tr>\n",
       "      <th>0</th>\n",
       "      <td>5.0</td>\n",
       "      <td>True</td>\n",
       "      <td>10 17, 2015</td>\n",
       "      <td>A1HP7NVNPFMA4N</td>\n",
       "      <td>0700026657</td>\n",
       "      <td>Ambrosia075</td>\n",
       "      <td>This game is a bit hard to get the hang of, bu...</td>\n",
       "      <td>but when you do it's great.</td>\n",
       "      <td>1445040000</td>\n",
       "      <td>NaN</td>\n",
       "      <td>NaN</td>\n",
       "      <td>NaN</td>\n",
       "    </tr>\n",
       "    <tr>\n",
       "      <th>1</th>\n",
       "      <td>4.0</td>\n",
       "      <td>False</td>\n",
       "      <td>07 27, 2015</td>\n",
       "      <td>A1JGAP0185YJI6</td>\n",
       "      <td>0700026657</td>\n",
       "      <td>travis</td>\n",
       "      <td>I played it a while but it was alright. The st...</td>\n",
       "      <td>But in spite of that it was fun, I liked it</td>\n",
       "      <td>1437955200</td>\n",
       "      <td>NaN</td>\n",
       "      <td>NaN</td>\n",
       "      <td>NaN</td>\n",
       "    </tr>\n",
       "    <tr>\n",
       "      <th>2</th>\n",
       "      <td>3.0</td>\n",
       "      <td>True</td>\n",
       "      <td>02 23, 2015</td>\n",
       "      <td>A1YJWEXHQBWK2B</td>\n",
       "      <td>0700026657</td>\n",
       "      <td>Vincent G. Mezera</td>\n",
       "      <td>ok game.</td>\n",
       "      <td>Three Stars</td>\n",
       "      <td>1424649600</td>\n",
       "      <td>NaN</td>\n",
       "      <td>NaN</td>\n",
       "      <td>NaN</td>\n",
       "    </tr>\n",
       "    <tr>\n",
       "      <th>3</th>\n",
       "      <td>2.0</td>\n",
       "      <td>True</td>\n",
       "      <td>02 20, 2015</td>\n",
       "      <td>A2204E1TH211HT</td>\n",
       "      <td>0700026657</td>\n",
       "      <td>Grandma KR</td>\n",
       "      <td>found the game a bit too complicated, not what...</td>\n",
       "      <td>Two Stars</td>\n",
       "      <td>1424390400</td>\n",
       "      <td>NaN</td>\n",
       "      <td>NaN</td>\n",
       "      <td>NaN</td>\n",
       "    </tr>\n",
       "    <tr>\n",
       "      <th>4</th>\n",
       "      <td>5.0</td>\n",
       "      <td>True</td>\n",
       "      <td>12 25, 2014</td>\n",
       "      <td>A2RF5B5H74JLPE</td>\n",
       "      <td>0700026657</td>\n",
       "      <td>jon</td>\n",
       "      <td>great game, I love it and have played it since...</td>\n",
       "      <td>love this game</td>\n",
       "      <td>1419465600</td>\n",
       "      <td>NaN</td>\n",
       "      <td>NaN</td>\n",
       "      <td>NaN</td>\n",
       "    </tr>\n",
       "  </tbody>\n",
       "</table>\n",
       "</div>"
      ],
      "text/plain": [
       "   overall  verified   reviewTime      reviewerID        asin  \\\n",
       "0      5.0      True  10 17, 2015  A1HP7NVNPFMA4N  0700026657   \n",
       "1      4.0     False  07 27, 2015  A1JGAP0185YJI6  0700026657   \n",
       "2      3.0      True  02 23, 2015  A1YJWEXHQBWK2B  0700026657   \n",
       "3      2.0      True  02 20, 2015  A2204E1TH211HT  0700026657   \n",
       "4      5.0      True  12 25, 2014  A2RF5B5H74JLPE  0700026657   \n",
       "\n",
       "        reviewerName                                         reviewText  \\\n",
       "0        Ambrosia075  This game is a bit hard to get the hang of, bu...   \n",
       "1             travis  I played it a while but it was alright. The st...   \n",
       "2  Vincent G. Mezera                                           ok game.   \n",
       "3         Grandma KR  found the game a bit too complicated, not what...   \n",
       "4                jon  great game, I love it and have played it since...   \n",
       "\n",
       "                                       summary  unixReviewTime vote style  \\\n",
       "0                  but when you do it's great.      1445040000  NaN   NaN   \n",
       "1  But in spite of that it was fun, I liked it      1437955200  NaN   NaN   \n",
       "2                                  Three Stars      1424649600  NaN   NaN   \n",
       "3                                    Two Stars      1424390400  NaN   NaN   \n",
       "4                               love this game      1419465600  NaN   NaN   \n",
       "\n",
       "  image  \n",
       "0   NaN  \n",
       "1   NaN  \n",
       "2   NaN  \n",
       "3   NaN  \n",
       "4   NaN  "
      ]
     },
     "execution_count": 3,
     "metadata": {},
     "output_type": "execute_result"
    }
   ],
   "source": [
    "def parse(path):\n",
    "  g = gzip.open(path, 'rb')\n",
    "  for l in g:\n",
    "    yield json.loads(l)\n",
    "\n",
    "def getDF(path):\n",
    "  i = 0\n",
    "  df = {}\n",
    "  for d in parse(path):\n",
    "    df[i] = d\n",
    "    i += 1\n",
    "  return pd.DataFrame.from_dict(df, orient='index')\n",
    "\n",
    "df = getDF('Video_Games_5.json.gz')\n",
    "df.head()"
   ]
  },
  {
   "cell_type": "code",
   "execution_count": 6,
   "metadata": {},
   "outputs": [],
   "source": [
    "data = df[['overall','reviewText']]"
   ]
  },
  {
   "cell_type": "code",
   "execution_count": 22,
   "metadata": {},
   "outputs": [
    {
     "data": {
      "text/html": [
       "<div>\n",
       "<style scoped>\n",
       "    .dataframe tbody tr th:only-of-type {\n",
       "        vertical-align: middle;\n",
       "    }\n",
       "\n",
       "    .dataframe tbody tr th {\n",
       "        vertical-align: top;\n",
       "    }\n",
       "\n",
       "    .dataframe thead th {\n",
       "        text-align: right;\n",
       "    }\n",
       "</style>\n",
       "<table border=\"1\" class=\"dataframe\">\n",
       "  <thead>\n",
       "    <tr style=\"text-align: right;\">\n",
       "      <th></th>\n",
       "      <th>overall</th>\n",
       "      <th>reviewText</th>\n",
       "    </tr>\n",
       "  </thead>\n",
       "  <tbody>\n",
       "    <tr>\n",
       "      <th>0</th>\n",
       "      <td>5.0</td>\n",
       "      <td>This game is a bit hard to get the hang of, bu...</td>\n",
       "    </tr>\n",
       "    <tr>\n",
       "      <th>1</th>\n",
       "      <td>4.0</td>\n",
       "      <td>I played it a while but it was alright. The st...</td>\n",
       "    </tr>\n",
       "    <tr>\n",
       "      <th>2</th>\n",
       "      <td>3.0</td>\n",
       "      <td>ok game.</td>\n",
       "    </tr>\n",
       "    <tr>\n",
       "      <th>3</th>\n",
       "      <td>2.0</td>\n",
       "      <td>found the game a bit too complicated, not what...</td>\n",
       "    </tr>\n",
       "    <tr>\n",
       "      <th>4</th>\n",
       "      <td>5.0</td>\n",
       "      <td>great game, I love it and have played it since...</td>\n",
       "    </tr>\n",
       "  </tbody>\n",
       "</table>\n",
       "</div>"
      ],
      "text/plain": [
       "   overall                                         reviewText\n",
       "0      5.0  This game is a bit hard to get the hang of, bu...\n",
       "1      4.0  I played it a while but it was alright. The st...\n",
       "2      3.0                                           ok game.\n",
       "3      2.0  found the game a bit too complicated, not what...\n",
       "4      5.0  great game, I love it and have played it since..."
      ]
     },
     "execution_count": 22,
     "metadata": {},
     "output_type": "execute_result"
    }
   ],
   "source": [
    "data.head()"
   ]
  },
  {
   "cell_type": "code",
   "execution_count": 10,
   "metadata": {},
   "outputs": [
    {
     "data": {
      "text/plain": [
       "RandomUnderSampler(random_state=42,\n",
       "                   sampling_strategy={1.0: 1500, 2.0: 500, 3.0: 500, 4.0: 500,\n",
       "                                      5.0: 1500})"
      ]
     },
     "execution_count": 10,
     "metadata": {},
     "output_type": "execute_result"
    }
   ],
   "source": [
    "rus = RandomUnderSampler(sampling_strategy={1.0: 1500, 2.0: 500, 3.0: 500, 4.0: 500, 5.0: 1500}, random_state=42)"
   ]
  },
  {
   "cell_type": "code",
   "execution_count": null,
   "metadata": {},
   "outputs": [],
   "source": []
  },
  {
   "cell_type": "code",
   "execution_count": 12,
   "metadata": {},
   "outputs": [
    {
     "data": {
      "text/plain": [
       "overall       float64\n",
       "reviewText     object\n",
       "dtype: object"
      ]
     },
     "execution_count": 12,
     "metadata": {},
     "output_type": "execute_result"
    }
   ],
   "source": [
    "data.dtypes"
   ]
  },
  {
   "cell_type": "code",
   "execution_count": 4,
   "metadata": {},
   "outputs": [
    {
     "name": "stdout",
     "output_type": "stream",
     "text": [
      "4.220456331381876\n"
     ]
    }
   ],
   "source": [
    "ratings = []\n",
    "\n",
    "for review in parse(\"Video_Games_5.json.gz\"):\n",
    "  ratings.append(review['overall'])\n",
    "\n",
    "print (sum(ratings) / len(ratings))"
   ]
  },
  {
   "cell_type": "code",
   "execution_count": 13,
   "metadata": {},
   "outputs": [
    {
     "data": {
      "text/plain": [
       "((497577, 2), Index(['overall', 'reviewText'], dtype='object'))"
      ]
     },
     "execution_count": 13,
     "metadata": {},
     "output_type": "execute_result"
    }
   ],
   "source": [
    "data.shape, data.columns"
   ]
  },
  {
   "cell_type": "code",
   "execution_count": 14,
   "metadata": {},
   "outputs": [
    {
     "name": "stdout",
     "output_type": "stream",
     "text": [
      "       reviewText\n",
      "count      497419\n",
      "unique     401498\n",
      "top          good\n",
      "freq         2302\n"
     ]
    }
   ],
   "source": [
    "print(data.describe(include=[np.object]))"
   ]
  },
  {
   "cell_type": "code",
   "execution_count": 15,
   "metadata": {},
   "outputs": [
    {
     "data": {
      "text/plain": [
       "Int64Index([     0,      1,      2,      3,      4,      5,      6,      7,\n",
       "                 8,      9,\n",
       "            ...\n",
       "            497567, 497568, 497569, 497570, 497571, 497572, 497573, 497574,\n",
       "            497575, 497576],\n",
       "           dtype='int64', length=497577)"
      ]
     },
     "execution_count": 15,
     "metadata": {},
     "output_type": "execute_result"
    }
   ],
   "source": [
    "data.index"
   ]
  },
  {
   "cell_type": "code",
   "execution_count": 17,
   "metadata": {},
   "outputs": [
    {
     "data": {
      "text/plain": [
       "overall         0\n",
       "reviewText    158\n",
       "dtype: int64"
      ]
     },
     "execution_count": 17,
     "metadata": {},
     "output_type": "execute_result"
    }
   ],
   "source": [
    "data.isnull().sum()"
   ]
  },
  {
   "cell_type": "code",
   "execution_count": 18,
   "metadata": {},
   "outputs": [
    {
     "data": {
      "text/plain": [
       "overall\n",
       "1.0     30883\n",
       "2.0     24135\n",
       "3.0     49146\n",
       "4.0     93654\n",
       "5.0    299759\n",
       "dtype: int64"
      ]
     },
     "execution_count": 18,
     "metadata": {},
     "output_type": "execute_result"
    }
   ],
   "source": [
    "data.groupby('overall').size()"
   ]
  },
  {
   "cell_type": "code",
   "execution_count": 19,
   "metadata": {},
   "outputs": [
    {
     "name": "stdout",
     "output_type": "stream",
     "text": [
      "[[5.0\n",
      "  \"This game is a bit hard to get the hang of, but when you do it's great.\"]\n",
      " [4.0\n",
      "  'I played it a while but it was alright. The steam was a bit of trouble. The more they move these game to steam the more of a hard time I have activating and playing a game. But in spite of that it was fun, I liked it. Now I am looking forward to anno 2205 I really want to play my way to the moon.']\n",
      " [3.0 'ok game.']\n",
      " ...\n",
      " [3.0\n",
      "  \"This does add some kids room things that are very nice in their own right, this doesn't seem to add enough for the price. I would have loved to see bunk beds or other options of the sort, but that didn't happen. Other than the beds, this does add some other pieces of furniture for the room, but just not enough for the price. I expected more.\"]\n",
      " [4.0\n",
      "  'I think I originally began playing Bioshock several years ago, but wasn\\'t leveled up enough or didn\\'t have enough ammo.  I remember reaching a point where I was battling a Big Daddy and only had a wrench to fight him with when all my ammo was exhausted.  Being a few hours into the game, I didn\\'t want to go back and never played it again.\\n\\nI gave it another chance with the Bioshock Collection.  Knowing how the first one played, I was stingy with my ammo and my magic, and that was sufficient in order to get me through the game, but this is my first criticism of the game.  Imagine you are watching a movie and the main character spends ten minutes in each scene searching through drawers.  It would mess with the flow of the movie, and in the same way for me, it messes with the flow of the game.\\n\\nThat\\'s why I like straight shooters.  You fight your way through a scene, pick up all the ammo that you need and you move on.  It\\'s fun and not work.  Bioshock 2 was especially stingy on the ammo.  I would finally kill a Big Daddy and use up all my ammo.  For some reason, suddenly enemies would respawn, and I\\'d have to kill them too.  It wouldn\\'t be such a big deal except for the fact that I\\'d use 200 bullets and collect 20.  It was a losing proposition which made me scrounge for large parts of the game.  Bioshock 2 also had the pleasant experience of sending Big Sisters your way when there was virtually no ammo left in the level.\\n\\nI will say, in some ways, this made me use all of the weapons in the game, like the turrets and hacking the cameras, but there were several times in Bioshock 2 when I wondered if I would be able to move on.  The abundance of weapons is okay, but it can be a bit annoying to constantly have to switch, especially during battle.  Sometimes, because of low ammo, I had to go to almost every weapon to finish a battle.\\n\\nWith that being said, they had a cool concept.  The underwater environment and the 1920\\'s theme were interesting.  I would laugh when the characters in Bioshock 2 would speak in 1940\\'s Hollywood style and say, \"Why you ruffian, I should give you a good thrashing.\"  The storyline in Bioshock 2 was a little weak, but it was your standard video game plot. (Get some stern warnings from the bad guy throughout the game, and at the end finally face them down).\\n\\nBoth Bioshock 1 and 2 were very difficult to begin the game, and then got almost too easy toward the end.  In Bioshock 2, I didn\\'t even use hardly any of my plasmids.  I just had electricity 1, telekinesis 1, and leveled up my fire.\\n\\nBioshock Infinite - I\\'m currently in the middle of playing.  At first I thought I\\'d like it more.  It definitely has nicer graphics and I really enjoyed the carnival at the beginning of the game, where they teach you game concepts in the form of carnival games.  The environments are really nice.  The gameplay and story, however are a bit confusing.  Whereas Bioshock 1 & 2 were super difficult, this one is almost a walk through the park.  It\\'s pretty easy to gun your way through a level, and if you die, there\\'s really no penalty, as you will keep respawining while you enemies keep the same damage.  The female character that follows you around reminds me of Fable or some sort of Disney movie.  It seems like a very different game.  Also, I have the strange, uneasy sense of not knowing what the heck is going on half of the time.  I\\'m just kind of going from level to level, with half bits of half-baked story lines, and I have a feel for what is going on, but feel disconnected from the game in a way too.\\n\\nWith that being said, for the price you get three decent games, the updated graphics look good, and it will give you several hours of gaming time.  Bioshock 1 &2 will make you search every last corner of the game in order to get through it, while Infinite can be played through in a hurry.  For me, there are some major detractions to all of these games, but there are some enjoyable and challenging bright spots to them too.  If you like more a traditional shooter, you might not like all the resource gathering, but if you\\'re familiar with RPG\\'s that make you work, then you should be okay.']\n",
      " [2.0\n",
      "  \"The graphics are terrible, it looks like ps2 graphics, the flight controls aren't all that good. The platinum trophy for Air Conflicts: Vietnam is unachievable, as it requires online play which nobody appears to be playing this game online\"]]\n"
     ]
    }
   ],
   "source": [
    "print(data.values)\n",
    "assert type(df.values) == np.ndarray"
   ]
  },
  {
   "cell_type": "code",
   "execution_count": 20,
   "metadata": {},
   "outputs": [],
   "source": [
    "#FMT = '%m %d, %Y'\n",
    "#date = df['reviewTime']\n",
    "#df['reviewTime'] = date.map(lambda x : (datetime.strptime(x, FMT) - datetime.strptime(\"10 14, 1999\", FMT)).days)"
   ]
  },
  {
   "cell_type": "code",
   "execution_count": 24,
   "metadata": {},
   "outputs": [],
   "source": [
    "#df = df.loc[:, ['overall','reviewText','summary', 'unixReviewTime']]\n",
    "\n",
    "#df1 = df.where((df.overall==1.0)).dropna()"
   ]
  },
  {
   "cell_type": "code",
   "execution_count": 25,
   "metadata": {},
   "outputs": [],
   "source": [
    "dataC = data.dropna()"
   ]
  },
  {
   "cell_type": "code",
   "execution_count": 26,
   "metadata": {},
   "outputs": [
    {
     "data": {
      "text/plain": [
       "(497419, 2)"
      ]
     },
     "execution_count": 26,
     "metadata": {},
     "output_type": "execute_result"
    }
   ],
   "source": [
    "dataC.shape"
   ]
  },
  {
   "cell_type": "code",
   "execution_count": 27,
   "metadata": {},
   "outputs": [
    {
     "data": {
      "text/plain": [
       "overall       0\n",
       "reviewText    0\n",
       "dtype: int64"
      ]
     },
     "execution_count": 27,
     "metadata": {},
     "output_type": "execute_result"
    }
   ],
   "source": [
    "dataC.isnull().sum()"
   ]
  },
  {
   "cell_type": "code",
   "execution_count": 28,
   "metadata": {},
   "outputs": [
    {
     "data": {
      "text/plain": [
       "overall\n",
       "1.0     30879\n",
       "2.0     24133\n",
       "3.0     49140\n",
       "4.0     93644\n",
       "5.0    299623\n",
       "dtype: int64"
      ]
     },
     "execution_count": 28,
     "metadata": {},
     "output_type": "execute_result"
    }
   ],
   "source": [
    "dataC.groupby('overall').size()"
   ]
  },
  {
   "cell_type": "code",
   "execution_count": 80,
   "metadata": {},
   "outputs": [
    {
     "data": {
      "image/png": "[encoded data removed]",
      "text/plain": [
       "<Figure size 720x576 with 1 Axes>"
      ]
     },
     "metadata": {
      "needs_background": "light"
     },
     "output_type": "display_data"
    }
   ],
   "source": [
    "fig, ax = plt.subplots(figsize = (10, 8))\n",
    "plt.hist(dataC.overall, bins=20, align='mid', edgecolor='black', histtype='bar')\n",
    "\n",
    "plt.title(\"Reviews' Classification\", fontsize = 14)\n",
    "plt.xlabel(\"Class\", fontsize = 14)\n",
    "\n",
    "plt.ylabel(\"Absolute Frequency\", fontsize = 14)\n",
    "plt.tick_params(axis='x', labelrotation=0, labelsize=12, grid_linewidth=0.5)\n",
    "\n",
    "#plt.savefig('Images/Achatamento_Curva.png',dpi=100 )\n",
    "\n",
    "#fig = plt.figure(figsize=(10,8));\n",
    "#g = sns.scatterplot(x=dfnovos.index, y=\"novos_casos\",\n",
    "#              hue=\"Isol\",\n",
    "#              data=dfnovos);\n",
    "#g.set(yscale=\"log\");\n",
    "#plt.show()\n",
    "#plt.savefig('Images/Achatamento_Curva.png',dpi=100 )\n"
   ]
  },
  {
   "cell_type": "code",
   "execution_count": 67,
   "metadata": {},
   "outputs": [
    {
     "data": {
      "image/png": "[encoded data removed]",
      "text/plain": [
       "<Figure size 432x288 with 1 Axes>"
      ]
     },
     "metadata": {
      "needs_background": "light"
     },
     "output_type": "display_data"
    }
   ],
   "source": [
    "plt.hist(dataC.overall.values, bins='auto', edgecolor='black', density=True)\n",
    "plt.xlabel('Class')\n",
    "plt.ylabel('Relative Likelihoods')\n",
    "plt.show()"
   ]
  },
  {
   "cell_type": "code",
   "execution_count": 95,
   "metadata": {},
   "outputs": [
    {
     "data": {
      "text/html": [
       "<div>\n",
       "<style scoped>\n",
       "    .dataframe tbody tr th:only-of-type {\n",
       "        vertical-align: middle;\n",
       "    }\n",
       "\n",
       "    .dataframe tbody tr th {\n",
       "        vertical-align: top;\n",
       "    }\n",
       "\n",
       "    .dataframe thead th {\n",
       "        text-align: right;\n",
       "    }\n",
       "</style>\n",
       "<table border=\"1\" class=\"dataframe\">\n",
       "  <thead>\n",
       "    <tr style=\"text-align: right;\">\n",
       "      <th></th>\n",
       "      <th>overall</th>\n",
       "      <th>reviewText</th>\n",
       "    </tr>\n",
       "  </thead>\n",
       "  <tbody>\n",
       "    <tr>\n",
       "      <th>0</th>\n",
       "      <td>1.0</td>\n",
       "      <td>Made in china... either a single bad luck of t...</td>\n",
       "    </tr>\n",
       "    <tr>\n",
       "      <th>1</th>\n",
       "      <td>1.0</td>\n",
       "      <td>Having played all of the other games, I was so...</td>\n",
       "    </tr>\n",
       "    <tr>\n",
       "      <th>2</th>\n",
       "      <td>1.0</td>\n",
       "      <td>Macro buttons in the way (obviously?), can't l...</td>\n",
       "    </tr>\n",
       "    <tr>\n",
       "      <th>3</th>\n",
       "      <td>1.0</td>\n",
       "      <td>Just received my \"Cronusmax Plus\" and after so...</td>\n",
       "    </tr>\n",
       "    <tr>\n",
       "      <th>4</th>\n",
       "      <td>1.0</td>\n",
       "      <td>Not worth the learning curve, the nunchuck+wii...</td>\n",
       "    </tr>\n",
       "  </tbody>\n",
       "</table>\n",
       "</div>"
      ],
      "text/plain": [
       "   overall                                         reviewText\n",
       "0      1.0  Made in china... either a single bad luck of t...\n",
       "1      1.0  Having played all of the other games, I was so...\n",
       "2      1.0  Macro buttons in the way (obviously?), can't l...\n",
       "3      1.0  Just received my \"Cronusmax Plus\" and after so...\n",
       "4      1.0  Not worth the learning curve, the nunchuck+wii..."
      ]
     },
     "execution_count": 95,
     "metadata": {},
     "output_type": "execute_result"
    }
   ],
   "source": [
    "dfc1 = dataC.where((dataC.overall==1.0)).dropna()\n",
    "dfc1 = dfc1.sample(n=1500,random_state=42)\n",
    "dfc1.reset_index(drop=True, inplace=True)\n",
    "dfc1.head()"
   ]
  },
  {
   "cell_type": "code",
   "execution_count": 96,
   "metadata": {},
   "outputs": [
    {
     "data": {
      "text/html": [
       "<div>\n",
       "<style scoped>\n",
       "    .dataframe tbody tr th:only-of-type {\n",
       "        vertical-align: middle;\n",
       "    }\n",
       "\n",
       "    .dataframe tbody tr th {\n",
       "        vertical-align: top;\n",
       "    }\n",
       "\n",
       "    .dataframe thead th {\n",
       "        text-align: right;\n",
       "    }\n",
       "</style>\n",
       "<table border=\"1\" class=\"dataframe\">\n",
       "  <thead>\n",
       "    <tr style=\"text-align: right;\">\n",
       "      <th></th>\n",
       "      <th>overall</th>\n",
       "      <th>reviewText</th>\n",
       "    </tr>\n",
       "  </thead>\n",
       "  <tbody>\n",
       "    <tr>\n",
       "      <th>0</th>\n",
       "      <td>2.0</td>\n",
       "      <td>I haven't gotten past the first level because ...</td>\n",
       "    </tr>\n",
       "    <tr>\n",
       "      <th>1</th>\n",
       "      <td>2.0</td>\n",
       "      <td>This game is pretty bad, I used to be an MK fa...</td>\n",
       "    </tr>\n",
       "    <tr>\n",
       "      <th>2</th>\n",
       "      <td>2.0</td>\n",
       "      <td>Wasn't the right memory card needs to tell sho...</td>\n",
       "    </tr>\n",
       "    <tr>\n",
       "      <th>3</th>\n",
       "      <td>2.0</td>\n",
       "      <td>I honestly do not like cheat devices, but sinc...</td>\n",
       "    </tr>\n",
       "    <tr>\n",
       "      <th>4</th>\n",
       "      <td>2.0</td>\n",
       "      <td>too fast, not a real castlevania game. More li...</td>\n",
       "    </tr>\n",
       "  </tbody>\n",
       "</table>\n",
       "</div>"
      ],
      "text/plain": [
       "   overall                                         reviewText\n",
       "0      2.0  I haven't gotten past the first level because ...\n",
       "1      2.0  This game is pretty bad, I used to be an MK fa...\n",
       "2      2.0  Wasn't the right memory card needs to tell sho...\n",
       "3      2.0  I honestly do not like cheat devices, but sinc...\n",
       "4      2.0  too fast, not a real castlevania game. More li..."
      ]
     },
     "execution_count": 96,
     "metadata": {},
     "output_type": "execute_result"
    }
   ],
   "source": [
    "dfc2 = dataC.where((data.overall==2.0)).dropna()\n",
    "dfc2 = dfc2.sample(n=500,random_state=42)\n",
    "dfc2.reset_index(drop=True, inplace=True)\n",
    "dfc2.head()"
   ]
  },
  {
   "cell_type": "code",
   "execution_count": 97,
   "metadata": {},
   "outputs": [
    {
     "data": {
      "text/html": [
       "<div>\n",
       "<style scoped>\n",
       "    .dataframe tbody tr th:only-of-type {\n",
       "        vertical-align: middle;\n",
       "    }\n",
       "\n",
       "    .dataframe tbody tr th {\n",
       "        vertical-align: top;\n",
       "    }\n",
       "\n",
       "    .dataframe thead th {\n",
       "        text-align: right;\n",
       "    }\n",
       "</style>\n",
       "<table border=\"1\" class=\"dataframe\">\n",
       "  <thead>\n",
       "    <tr style=\"text-align: right;\">\n",
       "      <th></th>\n",
       "      <th>overall</th>\n",
       "      <th>reviewText</th>\n",
       "    </tr>\n",
       "  </thead>\n",
       "  <tbody>\n",
       "    <tr>\n",
       "      <th>0</th>\n",
       "      <td>3.0</td>\n",
       "      <td>I am a bit conflicted with this controller...\\...</td>\n",
       "    </tr>\n",
       "    <tr>\n",
       "      <th>1</th>\n",
       "      <td>3.0</td>\n",
       "      <td>Some of the games are so convoluted and \"busy\"...</td>\n",
       "    </tr>\n",
       "    <tr>\n",
       "      <th>2</th>\n",
       "      <td>3.0</td>\n",
       "      <td>I'll make this review quick. The 360 has great...</td>\n",
       "    </tr>\n",
       "    <tr>\n",
       "      <th>3</th>\n",
       "      <td>3.0</td>\n",
       "      <td>At launch, this game was awful. Origin sucked,...</td>\n",
       "    </tr>\n",
       "    <tr>\n",
       "      <th>4</th>\n",
       "      <td>3.0</td>\n",
       "      <td>Breakthrough is an expansion pack to Medal of ...</td>\n",
       "    </tr>\n",
       "  </tbody>\n",
       "</table>\n",
       "</div>"
      ],
      "text/plain": [
       "   overall                                         reviewText\n",
       "0      3.0  I am a bit conflicted with this controller...\\...\n",
       "1      3.0  Some of the games are so convoluted and \"busy\"...\n",
       "2      3.0  I'll make this review quick. The 360 has great...\n",
       "3      3.0  At launch, this game was awful. Origin sucked,...\n",
       "4      3.0  Breakthrough is an expansion pack to Medal of ..."
      ]
     },
     "execution_count": 97,
     "metadata": {},
     "output_type": "execute_result"
    }
   ],
   "source": [
    "dfc3 = dataC.where((dataC.overall==3.0)).dropna()\n",
    "dfc3 = dfc3.sample(n=500,random_state=42)\n",
    "dfc3.reset_index(inplace=True, drop=True)\n",
    "dfc3.head()"
   ]
  },
  {
   "cell_type": "code",
   "execution_count": 99,
   "metadata": {},
   "outputs": [
    {
     "data": {
      "text/html": [
       "<div>\n",
       "<style scoped>\n",
       "    .dataframe tbody tr th:only-of-type {\n",
       "        vertical-align: middle;\n",
       "    }\n",
       "\n",
       "    .dataframe tbody tr th {\n",
       "        vertical-align: top;\n",
       "    }\n",
       "\n",
       "    .dataframe thead th {\n",
       "        text-align: right;\n",
       "    }\n",
       "</style>\n",
       "<table border=\"1\" class=\"dataframe\">\n",
       "  <thead>\n",
       "    <tr style=\"text-align: right;\">\n",
       "      <th></th>\n",
       "      <th>overall</th>\n",
       "      <th>reviewText</th>\n",
       "    </tr>\n",
       "  </thead>\n",
       "  <tbody>\n",
       "    <tr>\n",
       "      <th>0</th>\n",
       "      <td>4.0</td>\n",
       "      <td>While I've been favoring RTS's, simulations an...</td>\n",
       "    </tr>\n",
       "    <tr>\n",
       "      <th>1</th>\n",
       "      <td>4.0</td>\n",
       "      <td>We bought this wheel so the kids could play Dr...</td>\n",
       "    </tr>\n",
       "    <tr>\n",
       "      <th>2</th>\n",
       "      <td>4.0</td>\n",
       "      <td>Still waiting for more game modes and the opti...</td>\n",
       "    </tr>\n",
       "    <tr>\n",
       "      <th>3</th>\n",
       "      <td>4.0</td>\n",
       "      <td>Overall this is a really good game. It is an a...</td>\n",
       "    </tr>\n",
       "    <tr>\n",
       "      <th>4</th>\n",
       "      <td>4.0</td>\n",
       "      <td>I was very skeptical about this game. However ...</td>\n",
       "    </tr>\n",
       "  </tbody>\n",
       "</table>\n",
       "</div>"
      ],
      "text/plain": [
       "   overall                                         reviewText\n",
       "0      4.0  While I've been favoring RTS's, simulations an...\n",
       "1      4.0  We bought this wheel so the kids could play Dr...\n",
       "2      4.0  Still waiting for more game modes and the opti...\n",
       "3      4.0  Overall this is a really good game. It is an a...\n",
       "4      4.0  I was very skeptical about this game. However ..."
      ]
     },
     "execution_count": 99,
     "metadata": {},
     "output_type": "execute_result"
    }
   ],
   "source": [
    "dfc4 = dataC.where((dataC.overall==4.0)).dropna()\n",
    "dfc4 = dfc4.sample(n=500,random_state=42)\n",
    "dfc4.reset_index(inplace=True, drop=True)\n",
    "dfc4.head()"
   ]
  },
  {
   "cell_type": "code",
   "execution_count": 100,
   "metadata": {},
   "outputs": [
    {
     "data": {
      "text/html": [
       "<div>\n",
       "<style scoped>\n",
       "    .dataframe tbody tr th:only-of-type {\n",
       "        vertical-align: middle;\n",
       "    }\n",
       "\n",
       "    .dataframe tbody tr th {\n",
       "        vertical-align: top;\n",
       "    }\n",
       "\n",
       "    .dataframe thead th {\n",
       "        text-align: right;\n",
       "    }\n",
       "</style>\n",
       "<table border=\"1\" class=\"dataframe\">\n",
       "  <thead>\n",
       "    <tr style=\"text-align: right;\">\n",
       "      <th></th>\n",
       "      <th>overall</th>\n",
       "      <th>reviewText</th>\n",
       "    </tr>\n",
       "  </thead>\n",
       "  <tbody>\n",
       "    <tr>\n",
       "      <th>0</th>\n",
       "      <td>5.0</td>\n",
       "      <td>Excellent</td>\n",
       "    </tr>\n",
       "    <tr>\n",
       "      <th>1</th>\n",
       "      <td>5.0</td>\n",
       "      <td>Whether it'd be for the Xbox or the Playstatio...</td>\n",
       "    </tr>\n",
       "    <tr>\n",
       "      <th>2</th>\n",
       "      <td>5.0</td>\n",
       "      <td>This game link cable, in my opinion, is MUCH b...</td>\n",
       "    </tr>\n",
       "    <tr>\n",
       "      <th>3</th>\n",
       "      <td>5.0</td>\n",
       "      <td>I can't rate this game highly enough. It has v...</td>\n",
       "    </tr>\n",
       "    <tr>\n",
       "      <th>4</th>\n",
       "      <td>5.0</td>\n",
       "      <td>This game has a massive world to roam around i...</td>\n",
       "    </tr>\n",
       "  </tbody>\n",
       "</table>\n",
       "</div>"
      ],
      "text/plain": [
       "   overall                                         reviewText\n",
       "0      5.0                                          Excellent\n",
       "1      5.0  Whether it'd be for the Xbox or the Playstatio...\n",
       "2      5.0  This game link cable, in my opinion, is MUCH b...\n",
       "3      5.0  I can't rate this game highly enough. It has v...\n",
       "4      5.0  This game has a massive world to roam around i..."
      ]
     },
     "execution_count": 100,
     "metadata": {},
     "output_type": "execute_result"
    }
   ],
   "source": [
    "dfc5 = dataC.where((dataC.overall==5.0)).dropna()\n",
    "dfc5 = dfc5.sample(n=1500,random_state=42)\n",
    "dfc5.reset_index(inplace=True, drop=True)\n",
    "dfc5.head()"
   ]
  },
  {
   "cell_type": "code",
   "execution_count": 104,
   "metadata": {},
   "outputs": [
    {
     "data": {
      "text/plain": [
       "(   overall                                         reviewText\n",
       " 0      2.0  I haven't gotten past the first level because ...\n",
       " 1      2.0  This game is pretty bad, I used to be an MK fa...\n",
       " 2      2.0  Wasn't the right memory card needs to tell sho...\n",
       " 3      2.0  I honestly do not like cheat devices, but sinc...\n",
       " 4      2.0  too fast, not a real castlevania game. More li..., (1500, 2))"
      ]
     },
     "execution_count": 104,
     "metadata": {},
     "output_type": "execute_result"
    }
   ],
   "source": [
    "dfx = pd.concat([dfc2, dfc3,dfc4], sort=False)\n",
    "dfx.reset_index(inplace=True, drop=True)\n",
    "dfx.head(), dfx.shape"
   ]
  },
  {
   "cell_type": "code",
   "execution_count": 105,
   "metadata": {},
   "outputs": [
    {
     "data": {
      "text/plain": [
       "(   overall                                         reviewText\n",
       " 0      2.0  I haven't gotten past the first level because ...\n",
       " 1      2.0  This game is pretty bad, I used to be an MK fa...\n",
       " 2      2.0  Wasn't the right memory card needs to tell sho...\n",
       " 3      2.0  I honestly do not like cheat devices, but sinc...\n",
       " 4      2.0  too fast, not a real castlevania game. More li..., (4500, 2))"
      ]
     },
     "execution_count": 105,
     "metadata": {},
     "output_type": "execute_result"
    }
   ],
   "source": [
    "dfy = pd.concat([dfx, dfc1,dfc5], sort=False)\n",
    "dfy.reset_index(inplace=True, drop=True)\n",
    "dfy.head(), dfy.shape"
   ]
  },
  {
   "cell_type": "code",
   "execution_count": 106,
   "metadata": {},
   "outputs": [
    {
     "data": {
      "text/html": [
       "<div>\n",
       "<style scoped>\n",
       "    .dataframe tbody tr th:only-of-type {\n",
       "        vertical-align: middle;\n",
       "    }\n",
       "\n",
       "    .dataframe tbody tr th {\n",
       "        vertical-align: top;\n",
       "    }\n",
       "\n",
       "    .dataframe thead th {\n",
       "        text-align: right;\n",
       "    }\n",
       "</style>\n",
       "<table border=\"1\" class=\"dataframe\">\n",
       "  <thead>\n",
       "    <tr style=\"text-align: right;\">\n",
       "      <th></th>\n",
       "      <th>overall</th>\n",
       "      <th>reviewText</th>\n",
       "    </tr>\n",
       "  </thead>\n",
       "  <tbody>\n",
       "    <tr>\n",
       "      <th>4495</th>\n",
       "      <td>5.0</td>\n",
       "      <td>Sensational, AI is excellent and level design ...</td>\n",
       "    </tr>\n",
       "    <tr>\n",
       "      <th>4496</th>\n",
       "      <td>5.0</td>\n",
       "      <td>This has worked fine for the few NES controlle...</td>\n",
       "    </tr>\n",
       "    <tr>\n",
       "      <th>4497</th>\n",
       "      <td>5.0</td>\n",
       "      <td>I love this game.  Constantly looking around, ...</td>\n",
       "    </tr>\n",
       "    <tr>\n",
       "      <th>4498</th>\n",
       "      <td>5.0</td>\n",
       "      <td>This is the first gaming system we have purcha...</td>\n",
       "    </tr>\n",
       "    <tr>\n",
       "      <th>4499</th>\n",
       "      <td>5.0</td>\n",
       "      <td>It is a blast.\\nKind of repetitive after like ...</td>\n",
       "    </tr>\n",
       "  </tbody>\n",
       "</table>\n",
       "</div>"
      ],
      "text/plain": [
       "      overall                                         reviewText\n",
       "4495      5.0  Sensational, AI is excellent and level design ...\n",
       "4496      5.0  This has worked fine for the few NES controlle...\n",
       "4497      5.0  I love this game.  Constantly looking around, ...\n",
       "4498      5.0  This is the first gaming system we have purcha...\n",
       "4499      5.0  It is a blast.\\nKind of repetitive after like ..."
      ]
     },
     "execution_count": 106,
     "metadata": {},
     "output_type": "execute_result"
    }
   ],
   "source": [
    "dfy.tail()"
   ]
  },
  {
   "cell_type": "code",
   "execution_count": 121,
   "metadata": {},
   "outputs": [
    {
     "data": {
      "text/html": [
       "<div>\n",
       "<style scoped>\n",
       "    .dataframe tbody tr th:only-of-type {\n",
       "        vertical-align: middle;\n",
       "    }\n",
       "\n",
       "    .dataframe tbody tr th {\n",
       "        vertical-align: top;\n",
       "    }\n",
       "\n",
       "    .dataframe thead th {\n",
       "        text-align: right;\n",
       "    }\n",
       "</style>\n",
       "<table border=\"1\" class=\"dataframe\">\n",
       "  <thead>\n",
       "    <tr style=\"text-align: right;\">\n",
       "      <th></th>\n",
       "      <th>ratings</th>\n",
       "      <th>reviews</th>\n",
       "    </tr>\n",
       "  </thead>\n",
       "  <tbody>\n",
       "    <tr>\n",
       "      <th>0</th>\n",
       "      <td>1.0</td>\n",
       "      <td>At first glance, this Sega Classics Collection...</td>\n",
       "    </tr>\n",
       "    <tr>\n",
       "      <th>1</th>\n",
       "      <td>1.0</td>\n",
       "      <td>Stopped working after a week. You get what you...</td>\n",
       "    </tr>\n",
       "    <tr>\n",
       "      <th>2</th>\n",
       "      <td>1.0</td>\n",
       "      <td>Cheap deaths, horrible camera, and no knowledg...</td>\n",
       "    </tr>\n",
       "    <tr>\n",
       "      <th>3</th>\n",
       "      <td>1.0</td>\n",
       "      <td>O.K.  I will keep it short and sweet.  I thoug...</td>\n",
       "    </tr>\n",
       "    <tr>\n",
       "      <th>4</th>\n",
       "      <td>1.0</td>\n",
       "      <td>this Adapter would have been just fine....if i...</td>\n",
       "    </tr>\n",
       "  </tbody>\n",
       "</table>\n",
       "</div>"
      ],
      "text/plain": [
       "   ratings                                            reviews\n",
       "0      1.0  At first glance, this Sega Classics Collection...\n",
       "1      1.0  Stopped working after a week. You get what you...\n",
       "2      1.0  Cheap deaths, horrible camera, and no knowledg...\n",
       "3      1.0  O.K.  I will keep it short and sweet.  I thoug...\n",
       "4      1.0  this Adapter would have been just fine....if i..."
      ]
     },
     "execution_count": 121,
     "metadata": {},
     "output_type": "execute_result"
    }
   ],
   "source": [
    "dfd = dfy.sort_values('overall')\n",
    "dfd.reset_index(drop=True,inplace=True)\n",
    "dfd = dfd.rename(columns = {'overall':'ratings','reviewText':'reviews'})\n",
    "dfd.head()"
   ]
  },
  {
   "cell_type": "code",
   "execution_count": 122,
   "metadata": {},
   "outputs": [
    {
     "data": {
      "text/html": [
       "<div>\n",
       "<style scoped>\n",
       "    .dataframe tbody tr th:only-of-type {\n",
       "        vertical-align: middle;\n",
       "    }\n",
       "\n",
       "    .dataframe tbody tr th {\n",
       "        vertical-align: top;\n",
       "    }\n",
       "\n",
       "    .dataframe thead th {\n",
       "        text-align: right;\n",
       "    }\n",
       "</style>\n",
       "<table border=\"1\" class=\"dataframe\">\n",
       "  <thead>\n",
       "    <tr style=\"text-align: right;\">\n",
       "      <th></th>\n",
       "      <th>ratings</th>\n",
       "      <th>reviews</th>\n",
       "    </tr>\n",
       "  </thead>\n",
       "  <tbody>\n",
       "    <tr>\n",
       "      <th>0</th>\n",
       "      <td>5.0</td>\n",
       "      <td>so happy</td>\n",
       "    </tr>\n",
       "    <tr>\n",
       "      <th>1</th>\n",
       "      <td>4.0</td>\n",
       "      <td>Like many of the other reviewers here, I was a...</td>\n",
       "    </tr>\n",
       "    <tr>\n",
       "      <th>2</th>\n",
       "      <td>1.0</td>\n",
       "      <td>I am disappointed with Crackdown 2. After 3 ye...</td>\n",
       "    </tr>\n",
       "    <tr>\n",
       "      <th>3</th>\n",
       "      <td>4.0</td>\n",
       "      <td>It worked</td>\n",
       "    </tr>\n",
       "    <tr>\n",
       "      <th>4</th>\n",
       "      <td>5.0</td>\n",
       "      <td>Husband is in heaven</td>\n",
       "    </tr>\n",
       "  </tbody>\n",
       "</table>\n",
       "</div>"
      ],
      "text/plain": [
       "   ratings                                            reviews\n",
       "0      5.0                                           so happy\n",
       "1      4.0  Like many of the other reviewers here, I was a...\n",
       "2      1.0  I am disappointed with Crackdown 2. After 3 ye...\n",
       "3      4.0                                          It worked\n",
       "4      5.0                               Husband is in heaven"
      ]
     },
     "execution_count": 122,
     "metadata": {},
     "output_type": "execute_result"
    }
   ],
   "source": [
    "dfz = dataC.sample(n=100000,random_state=42)\n",
    "dfz.reset_index(inplace=True, drop=True)\n",
    "dfz = dfz.rename(columns = {'overall':'ratings','reviewText':'reviews'})\n",
    "dfz.head()"
   ]
  },
  {
   "cell_type": "code",
   "execution_count": 123,
   "metadata": {},
   "outputs": [
    {
     "data": {
      "text/plain": [
       "(100000, 2)"
      ]
     },
     "execution_count": 123,
     "metadata": {},
     "output_type": "execute_result"
    }
   ],
   "source": [
    "dfz.shape"
   ]
  },
  {
   "cell_type": "code",
   "execution_count": 125,
   "metadata": {},
   "outputs": [
    {
     "data": {
      "text/plain": [
       "(   ratings                                            reviews\n",
       " 0      1.0  I can't even use it with The Sims Medieval. It...\n",
       " 1      1.0  The game looks pretty good, but where are the ...\n",
       " 2      1.0  I'm an avid gamer, but Anno 2070 is an INSULT ...\n",
       " 3      1.0  I orderedTWO Assassin's Creed bundles and both...\n",
       " 4      1.0  EA... Just shut down your industry and save us..., (100000, 2))"
      ]
     },
     "execution_count": 125,
     "metadata": {},
     "output_type": "execute_result"
    }
   ],
   "source": [
    "dfz = dfz.sort_values('ratings')\n",
    "dfz.reset_index(drop=True,inplace=True)\n",
    "dfz.head(), dfz.shape"
   ]
  },
  {
   "cell_type": "markdown",
   "metadata": {},
   "source": [
    "dfd ---> small_corpus\n",
    "\n",
    "dfz ---> big_corpus"
   ]
  },
  {
   "cell_type": "code",
   "execution_count": 127,
   "metadata": {},
   "outputs": [
    {
     "data": {
      "text/plain": [
       "((4500, 2), (100000, 2))"
      ]
     },
     "execution_count": 127,
     "metadata": {},
     "output_type": "execute_result"
    }
   ],
   "source": [
    "dfd.shape, dfz.shape"
   ]
  },
  {
   "cell_type": "code",
   "execution_count": 128,
   "metadata": {},
   "outputs": [],
   "source": [
    "dfd.to_csv('small_corpus.csv')\n",
    "dfz.to_csv('big_corpus.csv')"
   ]
  },
  {
   "cell_type": "markdown",
   "metadata": {},
   "source": [
    "##### Recursos\n",
    "\n",
    "*Pandas*: Data Science Bookcamp by Leonard Apeltsin, Chapter 8, Analyzing Tables Using Pandas, covers the basics of pandas.(https://liveproject.manning.com/module/136_2_2/growth-hacking-with-nlp-and-sentiment-analysis/1--creating-your-dataset/1-2--analyzing-tables-using-pandas?)\n",
    "\n",
    "*Imbalanced-learn*: Data Science Bookcamp, Case Study 8, Chapters 27-29, especially Chapter 28, Training classifiers from unbalanced training sets, helps you understand the need for imbalanced sampling and get started with the imbalanced-learn package.\n",
    "\n",
    "*numpy*: Data Science Bookcamp by Leonard Apeltsin, Chapter 3, Running Random Simulations in NumPy, 3.1 Simulating Random Coin-Flips and Dice-Rolls Using NumPy, introduce the basic concepts of numpy. (https://liveproject.manning.com/module/136_2_3/growth-hacking-with-nlp-and-sentiment-analysis/1--creating-your-dataset/1-3--running-random-simulations-in-numpy?)\n",
    "\n",
    "*Annotation*: Robert Munro: Human-in-the-Loop Machine Learning, 1.2 Introducing Annotation, helps you understand the concept of annotation, the need for labeled data in Machine Learning and how one gets annotated data. (https://liveproject.manning.com/module/136_2_4/growth-hacking-with-nlp-and-sentiment-analysis/1--creating-your-dataset/1-4--introducing-annotation?)\n",
    "\n",
    "*Altair*: the first six notebooks introduce the basic concepts of *Altair* and *vega*. (https://github.com/altair-viz/altair-tutorial)\n",
    "\n",
    "*corpus*: What is a corpus? defines the meaning of corpus and describes its basic applications.(https://21centurytext.wordpress.com/home-2/special-section-window-to-corpus/what-is-corpus/)"
   ]
  },
  {
   "cell_type": "markdown",
   "metadata": {},
   "source": [
    "#### O que é Corpus?\n",
    "\n",
    "Por Michael McCarthy\n",
    "\n",
    "Um *corpus* é uma coleção de textos, escritos ou falados, geralmente armazenados em um banco de dados de computador. Um corpus pode ser bem pequeno, por exemplo, contendo apenas 50.000 palavras de texto ou muito grande, contendo muitos milhões de palavras. ...\n",
    "\n",
    "Os textos escritos em *corpora* podem ser extraídos de livros, jornais ou revistas que foram digitalizados ou baixados eletronicamente. Outros *corpora* escritos podem conter obras de literatura ou todos os escritos de um autor (por exemplo, William Shakespeare). Esses *corpora* nos ajudam a ver como a linguagem é usada na sociedade contemporânea, como nosso uso da linguagem mudou ao longo do tempo e como a linguagem é usada em diferentes situações.\n",
    "\n",
    "Os *corpora* falados, por outro lado, contêm transcrições da linguagem falada. Essas transcrições podem ser de conversas comuns gravadas nas casas e locais de trabalho das pessoas, ou de telefonemas, reuniões de negócios, transmissões de rádio ou programas de TV. Como os *corpora* escritos, os *corpora* falados nos mostram como a linguagem é usada na vida real e em muitos contextos diferentes.\n",
    "\n",
    "As pessoas constroem *corpora* de tamanhos diferentes por razões específicas. Por exemplo, seria necessário um corpus muito grande para ajudar na preparação de um dicionário. Pode conter dezenas de milhões de palavras - porque precisa incluir muitos exemplos de todas as palavras e expressões usadas no idioma. Um corpus de tamanho médio pode conter transcrições de palestras e seminários e pode ser usado para escrever livros para alunos que precisam de linguagem acadêmica para seus estudos. Esses corpora variam em tamanho, de um milhão de palavras a cinco ou dez milhões de palavras. Outros corpora são mais especializados e muito menores. Elas podem conter transcrições de reuniões de negócios, por exemplo, e podem ser usadas para ajudar escritores a projetar materiais para o ensino de linguagem comercial.\n",
    "\n",
    "Depois que um corpus é armazenado em um banco de dados, podemos analisá-lo e \"procurar\" informações da mesma maneira que usamos motores de busca para encontrar palavras-chave na Internet, mas com ferramentas mais sofisticadas. Ao pesquisar em um corpus, podemos obter respostas para perguntas como estas:\n",
    "\n",
    "1.Quais são as palavras e frases mais frequentes em inglês?\n",
    "\n",
    "2.Quais são as diferenças entre o inglês falado e o escrito?\n",
    "\n",
    "3.Quais tempos as pessoas usam com mais frequência?\n",
    "\n",
    "4.Quais preposições seguem verbos específicos?\n",
    "\n",
    "5.Como as pessoas usam palavras como pode, pode e pode?\n",
    "\n",
    "6.Quais palavras são usadas em situações mais formais e quais são usadas em situações mais informais?\n",
    "\n",
    "7.Com que frequência as pessoas usam expressões idiomáticas e por quê?\n",
    "\n",
    "8.Quantas palavras um aluno precisa saber para participar da conversa cotidiana?\n",
    "\n",
    "9.Quantas palavras diferentes os falantes nativos geralmente usam na conversa?\n",
    "\n",
    "Com *corpora* e ferramentas de software para analisá-los, podemos ver como a linguagem é realmente usada. Não precisamos mais depender muito da intuição para saber o que dizemos ou o que escrevemos; em vez disso, podemos ver o que centenas de oradores e escritores diferentes disseram ou escreveram, tudo com o clique de um mouse.\n",
    "\n",
    "Um corpus, então, é simplesmente uma grande coleção de textos que podemos analisar usando software de computador, assim como podemos acessar os milhões de textos na Internet. Não é uma teoria do aprendizado de idiomas ou uma metodologia de ensino, mas influencia nossa maneira de pensar sobre o idioma e os tipos de textos e exemplos que usamos no ensino de idiomas.\n",
    "\n",
    "Nota dos editores: Reproduzido com permissão de McCarthy, M. 2004. Touchstone: De Corpus ao livro do curso. Cambridge: Cambridge University Press"
   ]
  },
  {
   "cell_type": "markdown",
   "metadata": {},
   "source": [
    "\n",
    "(https://imbalanced-learn.readthedocs.io/en/stable/generated/imblearn.under_sampling.RandomUnderSampler.html) and make sure you apply the weights. Your subsample is fortunate enough to follow a simple order."
   ]
  },
  {
   "cell_type": "markdown",
   "metadata": {},
   "source": [
    "https://medium.com/strands-tech-corner/unbalanced-datasets-what-to-do-144e0552d9cd"
   ]
  },
  {
   "cell_type": "code",
   "execution_count": null,
   "metadata": {},
   "outputs": [],
   "source": []
  },
  {
   "cell_type": "code",
   "execution_count": null,
   "metadata": {},
   "outputs": [],
   "source": []
  }
 ],
 "metadata": {
  "kernelspec": {
   "display_name": "Python 3",
   "language": "python",
   "name": "python3"
  },
  "language_info": {
   "codemirror_mode": {
    "name": "ipython",
    "version": 3
   },
   "file_extension": ".py",
   "mimetype": "text/x-python",
   "name": "python",
   "nbconvert_exporter": "python",
   "pygments_lexer": "ipython3",
   "version": "3.7.1"
  }
 },
 "nbformat": 4,
 "nbformat_minor": 2
}
